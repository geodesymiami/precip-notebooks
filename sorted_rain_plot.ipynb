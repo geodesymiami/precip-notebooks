{
 "cells": [
  {
   "cell_type": "code",
   "execution_count": 1,
   "metadata": {},
   "outputs": [],
   "source": [
    "# Import necessary packages\n",
    "import pandas as pd \n",
    "import os\n",
    "from helper_functions import date_to_decimal_year, rain_predictor\n",
    "from plot_functions import eruption_counter, annual_plotter, bar_plotter, by_strength\n",
    "from el_nino_functions import elnino_strengths\n",
    "import numpy as np"
   ]
  },
  {
   "cell_type": "code",
   "execution_count": 2,
   "metadata": {},
   "outputs": [],
   "source": [
    "# Create path to data\n",
    "folder_env_variable = 'MY_FOLDER_PATH'\n",
    "default_folder_path = '/Users/jonathanquartin/Documents/Coding/GitHub/um_volcano_project/GALAPAGOS_DATA'\n",
    "\n",
    "folder_path = os.environ.get(folder_env_variable, default_folder_path)"
   ]
  },
  {
   "cell_type": "code",
   "execution_count": 3,
   "metadata": {},
   "outputs": [],
   "source": [
    "# Import tables\n",
    "volcanic_events = pd.read_csv(os.path.join(folder_path, \"eruptions_galapagos3.csv\"))\n",
    "rainfall = pd.read_csv(os.path.join(folder_path, \"cleaned_precip_galap.csv\"))\n",
    "\n",
    "bellavista = pd.read_csv(os.path.join(folder_path, \"climate_bellavista.csv\"))\n",
    "ayora = pd.read_csv(os.path.join(folder_path, \"climate_puerto-ayora.csv\"))\n",
    "\n",
    "oni = pd.read_csv(os.path.join(folder_path, \"oni.csv\"))"
   ]
  },
  {
   "cell_type": "code",
   "execution_count": 4,
   "metadata": {},
   "outputs": [],
   "source": [
    "# Drops events that occurs within 9 months of a previous event at their respective volcanic sites\n",
    "volcanic_events = volcanic_events.drop(5)\n",
    "volcanic_events = volcanic_events.drop(24)\n"
   ]
  },
  {
   "cell_type": "markdown",
   "metadata": {},
   "source": [
    "Eruption data must have columns: 'Volcano' and 'Start'. 'Start' is the beginning date of the eruption given as a string-- YYYY-MM-DD.\n",
    "\n",
    "Rainfall data must have columns: 'Date', 'Longitude', 'Latitude', and 'Precipitation'. 'Date' is given as a string YYYY-MM-DD and the other three columns are floats."
   ]
  },
  {
   "cell_type": "code",
   "execution_count": 4,
   "metadata": {},
   "outputs": [],
   "source": [
    "#sites_dict = {'Wolf': (-91.35, .05, 'Wolf'), 'Fernandina': (-91.45, -.45, 'Fernandina'), 'Negra, Sierra': (-91.15, -.85, 'Sierra Negra'), 'Azul, Cerro': (-91.25, -.55, 'Cerro Azul') } # Long/lat pairs must exist in rainfall data\n",
    "#volcanos = {'Wolf': (-91.20, 0.0, 'Wolf'), 'Fernandina': (-91.33, -0.22, 'Fernandina'), 'Negra, Sierra': (-91.17, -0.83, 'Sierra Negra'), 'Azul, Cerro': (-91.24, -0.55, 'Cerro Azul') } # Long/lat pairs must exist in rainfall data\n",
    "sites_dict = {'Fernandina': (-91.45, -.45, 'Fernandina')}\n",
    "quantiles = 1 # Number of bins to break up rainfall into\n",
    "rolling_number = 90 # Number of days to average rainfall over\n",
    "log_flag = True # If true, applies a log scaling to the data\n",
    "by_season = False # Make true if you want to consider rainfall quantiles yearly, or False to consider rainfall quantiles across the entire date range\n",
    "start = min(rainfall['Date'])\n",
    "end = max(rainfall['Date'])\n",
    "strengths = {}\n",
    "anom_types = {'moderate nina': -1, 'moderate nino': 1}\n",
    "for i in anom_types:\n",
    "    if i == 'weak nina' or i == 'weak nino':\n",
    "        strengths.update(elnino_strengths(oni, anom_types[i], i, 5))\n",
    "    else:\n",
    "        strengths.update(elnino_strengths(oni, anom_types[i], i, 3)) \n",
    "\n",
    "# Uncomment below to use rain predictor gauge location. This notebook combines pre-2000 predictions with post-2000 satellite data\n",
    "\n",
    "compare_site = ayora  # Choose ayora or bellavista to compare rainfall to\n",
    "print_summary = False # Make true if you want to see summary of regression\n",
    "pred_rain = rain_predictor(rainfall, sites_dict, compare_site, rolling_number, print_summary)\n",
    "rainfall_two = pred_rain[pred_rain['Date'] < start].copy()\n",
    "rainfall = pd.concat([rainfall, rainfall_two])\n",
    "start = min(rainfall['Date'])\n",
    "end = max(rainfall['Date'])\n",
    "\n",
    "# Picks out elninos/laninas within dates of rainfall data. Converts dates to decimals.\n",
    "elninos = {'weak nina': [], 'moderate nina': [], 'strong nina': [], 'weak nino': [], 'moderate nino': [], 'strong nino': [], 'very strong nino': []}\n",
    "\n",
    "if strengths != None:\n",
    "    for j in strengths:\n",
    "        for i in strengths[j]:\n",
    "            if i[1] > start and i[0] < end:\n",
    "                first = max(i[0], start)\n",
    "                last = min(i[1], end)\n",
    "                elninos[j].append([date_to_decimal_year(first), date_to_decimal_year(last)])\n",
    "\n"
   ]
  },
  {
   "cell_type": "code",
   "execution_count": 8,
   "metadata": {},
   "outputs": [
    {
     "name": "stdout",
     "output_type": "stream",
     "text": [
      "{'weak nina': [[1965.0, 1965.0384], [1970.5342, 1972.0384], [1973.3671, 1974.5342], [1974.7863, 1976.2027], [1984.789, 1985.4521], [1988.3699, 1989.3671], [1995.6192, 1996.2027], [1998.5342, 2001.1233], [2005.8712, 2006.2], [2007.5342, 2008.4548], [2008.874, 2009.2], [2010.4521, 2011.3671], [2011.6192, 2012.2027], [2016.6219, 2016.9562], [2017.7863, 2018.2849], [2020.6219, 2021.2849], [2021.7041, 2023.0384]], 'moderate nina': [], 'strong nina': [], 'weak nino': [[1965.4521, 1966.2849], [1968.789, 1969.3671], [1969.6192, 1970.0384], [1972.3699, 1973.2], [1976.7068, 1977.1233], [1977.7041, 1978.0384], [1982.3671, 1983.4521], [1986.7041, 1988.1233], [1991.4521, 1992.4548], [1994.7041, 1995.2], [1997.3671, 1998.2849], [2002.4521, 2003.1233], [2004.6219, 2005.1233], [2006.7041, 2007.0384], [2009.6192, 2010.2], [2015.2, 2016.2877], [2018.7863, 2019.3671]], 'moderate nino': [], 'strong nino': [], 'very strong nino': []}\n"
     ]
    }
   ],
   "source": [
    "print(elninos)"
   ]
  },
  {
   "cell_type": "code",
   "execution_count": 5,
   "metadata": {},
   "outputs": [],
   "source": [
    "# Needed to combine pre and post 2000 data\n",
    "rainfall = rainfall.reset_index(drop=True)"
   ]
  },
  {
   "cell_type": "code",
   "execution_count": 6,
   "metadata": {},
   "outputs": [],
   "source": [
    "volcanic_events.drop(volcanic_events.index, inplace=True)"
   ]
  },
  {
   "cell_type": "code",
   "execution_count": 7,
   "metadata": {},
   "outputs": [
    {
     "name": "stdout",
     "output_type": "stream",
     "text": [
      "0\n"
     ]
    },
    {
     "data": {
      "image/png": "[encoded data removed]",
      "text/plain": [
       "<Figure size 720x360 with 1 Axes>"
      ]
     },
     "metadata": {
      "needs_background": "light"
     },
     "output_type": "display_data"
    }
   ],
   "source": [
    "all_rain, event_rain = by_strength(sites_dict, volcanic_events, rainfall, quantiles, rolling_number, elninos, recur=False)"
   ]
  },
  {
   "cell_type": "code",
   "execution_count": 18,
   "metadata": {},
   "outputs": [
    {
     "name": "stdout",
     "output_type": "stream",
     "text": [
      "0.5556034665787988\n",
      "0.16179422138540484\n"
     ]
    }
   ],
   "source": [
    "fern = np.array(event_rain['Fernandina'])\n",
    "print(np.mean(fern))\n",
    "print(np.median(all_rain['Fernandina']))"
   ]
  }
 ],
 "metadata": {
  "kernelspec": {
   "display_name": "base",
   "language": "python",
   "name": "python3"
  },
  "language_info": {
   "codemirror_mode": {
    "name": "ipython",
    "version": 3
   },
   "file_extension": ".py",
   "mimetype": "text/x-python",
   "name": "python",
   "nbconvert_exporter": "python",
   "pygments_lexer": "ipython3",
   "version": "3.9.12"
  }
 },
 "nbformat": 4,
 "nbformat_minor": 2
}
