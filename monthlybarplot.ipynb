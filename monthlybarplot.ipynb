{
 "cells": [
  {
   "cell_type": "code",
   "execution_count": 1,
   "metadata": {},
   "outputs": [],
   "source": [
    "# Import necessary packages\n",
    "import pandas as pd \n",
    "import os\n",
    "from helper_functions import date_to_decimal_year, rain_predictor\n",
    "from plot_functions import eruption_counter, annual_plotter, bar_plotter, by_strength\n",
    "from el_nino_functions import elnino_strengths\n",
    "import numpy as np"
   ]
  },
  {
   "cell_type": "code",
   "execution_count": 2,
   "metadata": {},
   "outputs": [],
   "source": [
    "# Create path to data\n",
    "folder_env_variable = 'MY_FOLDER_PATH'\n",
    "default_folder_path = '/Users/jonathanquartin/Documents/Coding/GitHub/um_volcano_project/GALAPAGOS_DATA'\n",
    "\n",
    "folder_path = os.environ.get(folder_env_variable, default_folder_path)"
   ]
  },
  {
   "cell_type": "code",
   "execution_count": 8,
   "metadata": {},
   "outputs": [],
   "source": [
    "# Import tables\n",
    "volcanic_events = pd.read_csv(os.path.join(folder_path, \"erupt_all.csv\"))\n",
    "rainfall = pd.read_csv(os.path.join(folder_path, \"cleaned_precip_galap.csv\"))\n",
    "\n",
    "bellavista = pd.read_csv(os.path.join(folder_path, \"climate_bellavista.csv\"))\n",
    "ayora = pd.read_csv(os.path.join(folder_path, \"climate_puerto-ayora.csv\"))\n",
    "\n",
    "oni = pd.read_csv(os.path.join(folder_path, \"oni.csv\"))"
   ]
  },
  {
   "cell_type": "code",
   "execution_count": 9,
   "metadata": {},
   "outputs": [
    {
     "name": "stdout",
     "output_type": "stream",
     "text": [
      "          Volcano       Start Max Explosivity  Decimal\n",
      "0      Fernandina  1917-05-14               0        5\n",
      "1      Fernandina  1905-04-09             NaN        4\n",
      "2      Fernandina  1927-12-13               0       12\n",
      "3      Fernandina  1937-03-01               0        3\n",
      "4      Fernandina  1958-09-16               2        9\n",
      "5      Fernandina  1961-03-21               2        3\n",
      "6      Fernandina  1972-06-04               0        6\n",
      "7            Wolf  1925-04-11               1        4\n",
      "8            Wolf  1935-02-01             NaN        2\n",
      "9            Wolf  1948-01-24               2        1\n",
      "10           Wolf  1963-03-04               0        3\n",
      "11    Azul, Cerro  1943-04-13               1        4\n",
      "12    Azul, Cerro  1948-06-30               0        6\n",
      "13    Azul, Cerro  1951-07-02             NaN        7\n",
      "14    Azul, Cerro  1959-06-29               2        6\n",
      "15  Negra, Sierra  1911-12-31             NaN       12\n",
      "16  Negra, Sierra  1948-08-19               2        8\n",
      "17  Negra, Sierra  1953-08-27               3        8\n",
      "18  Negra, Sierra  1954-11-09               2       11\n",
      "19  Negra, Sierra  1963-04-13               2        4\n",
      "20         Alcedo  1953-07-02               0        7\n",
      "21    Azul, Cerro  1967-08-09            None        8\n",
      "22     Fernandina  1968-05-21      1968-05-23        5\n",
      "23     Fernandina  1968-06-11      1968-07-04        6\n",
      "24     Fernandina  1972-06-04            None        6\n",
      "25     Fernandina  1973-12-09      1973-12-16       12\n",
      "26     Fernandina  1977-03-23      1977-03-27        3\n",
      "27     Fernandina  1978-08-08      1978-08-26        8\n",
      "28    Azul, Cerro  1979-01-29      1979-03-04        1\n",
      "29  Negra, Sierra  1979-11-13      1980-01-14       11\n",
      "30     Fernandina  1981-08-01            None        8\n",
      "31           Wolf  1982-08-28      1982-09-06        8\n",
      "32     Fernandina  1984-03-30            None        3\n",
      "33     Fernandina  1988-09-14      1988-09-16        9\n",
      "34     Fernandina  1991-04-19      1991-04-24        4\n",
      "35       Marchena  1991-09-25      1991-11-16        9\n",
      "36         Alcedo  1993-12-05            None       12\n",
      "37     Fernandina  1995-01-25      1995-04-08        1\n",
      "38  Negra, Sierra  1998-01-11            None        1\n",
      "39    Azul, Cerro  1998-09-15      1998-10-21        9\n",
      "40  Negra, Sierra  2005-04-16            None        4\n",
      "41     Fernandina  2005-05-13      2005-05-29        5\n",
      "42  Negra, Sierra  2005-10-22      2005-10-30       10\n",
      "43    Azul, Cerro  2008-05-29      2008-06-17        5\n",
      "44     Fernandina  2009-04-10      2009-04-28        4\n",
      "45           Wolf  2015-05-25      2015-07-16        5\n",
      "46     Fernandina  2017-09-04      2017-09-07        9\n",
      "47    Azul, Cerro  2017-03-10            None        3\n",
      "48     Fernandina  2018-06-16      2018-06-21        6\n",
      "49  Negra, Sierra  2018-06-26      2018-08-23        6\n",
      "50     Fernandina  2020-01-12      2020-01-13        1\n",
      "51           Wolf  2022-01-06      2022-04-14        1\n"
     ]
    }
   ],
   "source": [
    "volcanic_events['Decimal'] = volcanic_events['Start'].apply(lambda x: int(x[5:7]))\n",
    "print(volcanic_events)"
   ]
  },
  {
   "cell_type": "code",
   "execution_count": 11,
   "metadata": {},
   "outputs": [],
   "source": [
    "volcanic_events = volcanic_events[volcanic_events['Start'] > '1965']"
   ]
  },
  {
   "cell_type": "code",
   "execution_count": 13,
   "metadata": {},
   "outputs": [
    {
     "data": {
      "image/png": "[encoded data removed]",
      "text/plain": [
       "<Figure size 432x288 with 1 Axes>"
      ]
     },
     "metadata": {
      "needs_background": "light"
     },
     "output_type": "display_data"
    }
   ],
   "source": [
    "import matplotlib.pyplot as plt\n",
    "\n",
    "# Sample data\n",
    "categories = ['Fernandina', 'Wolf', 'Azul, Cerro', 'Negra, Sierra']\n",
    "values = [[((volcanic_events['Volcano'] == i) & (volcanic_events['Decimal'] == j)).sum() for i in categories] for j in range(1,13)] \n",
    "\n",
    "# Initialize legend labels and handles\n",
    "legend_labels = []\n",
    "handles = []\n",
    "\n",
    "all = np.sum(values)\n",
    "\n",
    "# Define colors for each segment of the bars\n",
    "colors = [plt.cm.plasma(i) for i in np.linspace(0.3, 0.7, 4)]\n",
    "\n",
    "# Plot\n",
    "fig, ax = plt.subplots()\n",
    "\n",
    "# Iterate through each set of values\n",
    "for i in range(len(values)):\n",
    "    # Initialize the bottom position of the bar segments\n",
    "    bottom = 0\n",
    "    # Iterate through each segment value in the bar\n",
    "    for j in range(len(categories)):\n",
    "        # Plot each segment of the bar\n",
    "        bar = ax.bar(i, values[i][j], bottom=bottom, color=colors[j])\n",
    "        # Update the bottom position for the next segment\n",
    "        bottom += values[i][j]\n",
    "        # Add legend labels and handles only if not already added\n",
    "        if categories[j] not in legend_labels:\n",
    "            handles.append(bar)\n",
    "            legend_labels.append(categories[j])\n",
    "            \n",
    "line = ax.axhline(y=(all/12), color='gray', linestyle='--')\n",
    "handles.append(line)\n",
    "legend_labels.append('Monthly average')\n",
    "\n",
    "ax.set_title('Eruptions by month (1965-2023)')\n",
    "ax.set_xlabel('Month')\n",
    "ax.set_ylabel('Number of eruptions')\n",
    "\n",
    "# Set x-axis ticks and labels\n",
    "ax.set_xticks(range(len(values)), ['Jan', 'Feb', 'Mar', 'Apr', 'May', 'Jun', 'Jul', 'Aug', 'Sep', 'Oct', 'Nov', 'Dec'])\n",
    "ax.set_yticks(range(11))\n",
    "\n",
    "# Add legend\n",
    "ax.legend(handles, legend_labels)\n",
    "\n",
    "# Show plot\n",
    "plt.show()\n"
   ]
  }
 ],
 "metadata": {
  "kernelspec": {
   "display_name": "base",
   "language": "python",
   "name": "python3"
  },
  "language_info": {
   "codemirror_mode": {
    "name": "ipython",
    "version": 3
   },
   "file_extension": ".py",
   "mimetype": "text/x-python",
   "name": "python",
   "nbconvert_exporter": "python",
   "pygments_lexer": "ipython3",
   "version": "3.9.12"
  }
 },
 "nbformat": 4,
 "nbformat_minor": 2
}
